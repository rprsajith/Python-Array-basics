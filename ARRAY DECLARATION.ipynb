{
  "nbformat": 4,
  "nbformat_minor": 0,
  "metadata": {
    "colab": {
      "provenance": []
    },
    "kernelspec": {
      "name": "python3",
      "display_name": "Python 3"
    },
    "language_info": {
      "name": "python"
    }
  },
  "cells": [
    {
      "cell_type": "code",
      "execution_count": null,
      "metadata": {
        "id": "kvHkErvvcMVQ"
      },
      "outputs": [],
      "source": [
        "import numpy as np"
      ]
    },
    {
      "cell_type": "code",
      "source": [
        "a = np.array([23,45,67,34,56,90])\n",
        "print(a)\n",
        "print(a[3])\n",
        "print(a[2:6])\n",
        "print(a[5:])\n",
        "print(a[:6])\n"
      ],
      "metadata": {
        "colab": {
          "base_uri": "https://localhost:8080/"
        },
        "id": "SmjHZCyFce52",
        "outputId": "7c8e2ad6-a224-4e76-95ef-5cb11438b907"
      },
      "execution_count": null,
      "outputs": [
        {
          "output_type": "stream",
          "name": "stdout",
          "text": [
            "[23 45 67 34 56 90]\n",
            "34\n",
            "[67 34 56 90]\n",
            "[90]\n",
            "[23 45 67 34 56 90]\n"
          ]
        }
      ]
    },
    {
      "cell_type": "code",
      "source": [
        "b = np.array([[34,56,78,89] ,[34,56,78,23,45], [34,67,23,98,43]])"
      ],
      "metadata": {
        "colab": {
          "base_uri": "https://localhost:8080/"
        },
        "id": "DVkO-Oc7dPn8",
        "outputId": "141e2c6b-2f9a-4800-ee24-38ac8c5fb855"
      },
      "execution_count": null,
      "outputs": [
        {
          "output_type": "stream",
          "name": "stderr",
          "text": [
            "<ipython-input-14-6bd4535b9c84>:1: VisibleDeprecationWarning: Creating an ndarray from ragged nested sequences (which is a list-or-tuple of lists-or-tuples-or ndarrays with different lengths or shapes) is deprecated. If you meant to do this, you must specify 'dtype=object' when creating the ndarray.\n",
            "  b = np.array([[34,56,78,89] ,[34,56,78,23,45], [34,67,23,98,43]])\n"
          ]
        }
      ]
    },
    {
      "cell_type": "code",
      "source": [
        "# c = np.array([[34,56,78,89] ,[34,56,78,23,45], [34,67,23,98,43]]) + np.array([23,45,67,34,56,90])\n",
        "\n",
        "a =np.array([23,45,67,89])\n",
        "b =np.array([1,2,3,4])\n",
        "z = np.concatenate((a,b))\n",
        "print(z)\n",
        "#print(a + b)"
      ],
      "metadata": {
        "colab": {
          "base_uri": "https://localhost:8080/"
        },
        "id": "X8U9-Pi5d448",
        "outputId": "0dc0c4bc-170b-45c5-d314-898964706bea"
      },
      "execution_count": null,
      "outputs": [
        {
          "output_type": "stream",
          "name": "stdout",
          "text": [
            "[23 45 67 89  1  2  3  4]\n"
          ]
        }
      ]
    },
    {
      "cell_type": "code",
      "source": [
        "a = np.array([[1,2,3,4], [2,4,5,6]])\n",
        "b = np.array([[10,11,12,13],[21,22,23,24]])\n",
        "c = np.concatenate((a,b), axis=1)\n",
        "print(c)\n",
        "for i in a:\n",
        "  print(a)"
      ],
      "metadata": {
        "colab": {
          "base_uri": "https://localhost:8080/"
        },
        "id": "xsS9hAlrgRxA",
        "outputId": "edb0ee71-6690-4737-a6c2-b9f41bc87f63"
      },
      "execution_count": null,
      "outputs": [
        {
          "output_type": "stream",
          "name": "stdout",
          "text": [
            "[[ 1  2  3  4 10 11 12 13]\n",
            " [ 2  4  5  6 21 22 23 24]]\n",
            "[2 4 5 6]\n",
            "[2 4 5 6]\n"
          ]
        }
      ]
    },
    {
      "cell_type": "code",
      "source": [
        "b = np.array([[1,2,3],[4,5,6],[7,2,9]])\n",
        "print(b[2,1])\n",
        "print(b[1,0:2])\n",
        "for i in b:\n",
        "  for j in i:\n",
        "    print(j)"
      ],
      "metadata": {
        "colab": {
          "base_uri": "https://localhost:8080/"
        },
        "id": "1DBkafu2hqT9",
        "outputId": "ff9e3ea8-e057-4d77-b70a-ca073827403b"
      },
      "execution_count": null,
      "outputs": [
        {
          "output_type": "stream",
          "name": "stdout",
          "text": [
            "2\n",
            "[4 5]\n",
            "1\n",
            "2\n",
            "3\n",
            "4\n",
            "5\n",
            "6\n",
            "7\n",
            "2\n",
            "9\n"
          ]
        }
      ]
    },
    {
      "cell_type": "code",
      "source": [
        "b =np.array([[[1,2,3],[4,5,6]],[[7,8,9],[10,11,12]]])\n",
        "#print(b[1,1,2])\n",
        "#print(b[0,0:2])\n",
        "#print(b[1,1:2])\n",
        "#print(b[0,1,1:2])\n",
        "#print(b[1,0,1:3])\n",
        "#np.sort(b)\n",
        "for i in b:\n",
        "  for j in i:\n",
        "    for k in j:\n",
        "      print(k)\n"
      ],
      "metadata": {
        "colab": {
          "base_uri": "https://localhost:8080/"
        },
        "id": "00LoWnl0itux",
        "outputId": "72a11ffe-a131-470a-f6fe-292347e7919e"
      },
      "execution_count": null,
      "outputs": [
        {
          "output_type": "stream",
          "name": "stdout",
          "text": [
            "1\n",
            "2\n",
            "3\n",
            "4\n",
            "5\n",
            "6\n",
            "7\n",
            "8\n",
            "9\n",
            "10\n",
            "11\n",
            "12\n"
          ]
        }
      ]
    },
    {
      "cell_type": "code",
      "source": [
        "b = np.array([1,2,3,4,5,6])\n",
        "#print(b[1:3])\n",
        "for i in b:\n",
        "  print(i)"
      ],
      "metadata": {
        "colab": {
          "base_uri": "https://localhost:8080/"
        },
        "id": "2vdNbcI0kXGm",
        "outputId": "af86a425-9ca5-41e1-a328-def511c76c78"
      },
      "execution_count": null,
      "outputs": [
        {
          "output_type": "stream",
          "name": "stdout",
          "text": [
            "1\n",
            "2\n",
            "3\n",
            "4\n",
            "5\n",
            "6\n"
          ]
        }
      ]
    }
  ]
}